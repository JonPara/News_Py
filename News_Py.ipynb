{
 "cells": [
  {
   "cell_type": "code",
   "execution_count": 30,
   "metadata": {
    "collapsed": true
   },
   "outputs": [],
   "source": [
    "# Dependencies\n",
    "import tweepy\n",
    "import json\n",
    "import numpy as np\n",
    "import pandas as pd\n",
    "import matplotlib.pyplot as plt\n",
    "import time\n",
    "\n",
    "# Import and Initialize Sentiment Analyzer\n",
    "from vaderSentiment.vaderSentiment import SentimentIntensityAnalyzer\n",
    "analyzer = SentimentIntensityAnalyzer()\n",
    "\n",
    "# Twitter API Keys\n",
    "consumer_key = \"Ed4RNulN1lp7AbOooHa9STCoU\"\n",
    "consumer_secret = \"P7cUJlmJZq0VaCY0Jg7COliwQqzK0qYEyUF9Y0idx4ujb3ZlW5\"\n",
    "access_token = \"839621358724198402-dzdOsx2WWHrSuBwyNUiqSEnTivHozAZ\"\n",
    "access_token_secret = \"dCZ80uNRbFDjxdU2EckmNiSckdoATach6Q8zb7YYYE5ER\""
   ]
  },
  {
   "cell_type": "code",
   "execution_count": 31,
   "metadata": {
    "collapsed": true
   },
   "outputs": [],
   "source": [
    "# Setup Tweepy API Authentication\n",
    "auth = tweepy.OAuthHandler(consumer_key, consumer_secret)\n",
    "auth.set_access_token(access_token, access_token_secret)\n",
    "api = tweepy.API(auth, wait_on_rate_limit = True, parser=tweepy.parsers.JSONParser())"
   ]
  },
  {
   "cell_type": "code",
   "execution_count": 32,
   "metadata": {
    "collapsed": true
   },
   "outputs": [],
   "source": [
    "# Target Search Term\n",
    "target_terms = (\"@CNN\", \"@FoxNews\", \"@nytimes\", \"@BBC\")\n",
    "\n",
    "# \"Real Person\" Filters\n",
    "min_tweets = 5\n",
    "max_tweets = 10000\n",
    "max_followers = 2500\n",
    "max_following = 2500\n",
    "lang = \"en\""
   ]
  },
  {
   "cell_type": "code",
   "execution_count": 33,
   "metadata": {},
   "outputs": [],
   "source": [
    "tweet_data = {\n",
    "    \"tweet_source\": [],\n",
    "    \"tweet_text\": [],\n",
    "    \"tweet_date\": [],\n",
    "    \"tweet_vader_score\": [],\n",
    "    \"tweet_neg_score\": [],\n",
    "    \"tweet_pos_score\": [],\n",
    "    \"tweet_neu_score\": []\n",
    "}\n",
    "\n",
    "# Grab 100 tweets from each site (total 500)\n",
    "for x in range(5):\n",
    "\n",
    "    # Loop through all news sources\n",
    "    for source in target_terms:\n",
    "\n",
    "        # Grab the tweets\n",
    "        tweets = api.user_timeline(source, page=x)\n",
    "\n",
    "        # For each tweet store it into the dictionary\n",
    "        for tweet in tweets:\n",
    "            \n",
    "                # All data is grabbed from the JSON returned by Twitter\n",
    "                tweet_data[\"tweet_source\"].append(tweet[\"user\"][\"name\"])\n",
    "                tweet_data[\"tweet_text\"].append(tweet[\"text\"])\n",
    "                tweet_data[\"tweet_date\"].append(tweet[\"created_at\"])\n",
    "\n",
    "                # Run sentiment analysis on each tweet using Vader\n",
    "                tweet_data[\"tweet_vader_score\"].append(analyzer.polarity_scores(tweet[\"text\"])[\"compound\"])\n",
    "                tweet_data[\"tweet_pos_score\"].append(analyzer.polarity_scores(tweet[\"text\"])[\"pos\"])\n",
    "                tweet_data[\"tweet_neu_score\"].append(analyzer.polarity_scores(tweet[\"text\"])[\"neu\"])\n",
    "                tweet_data[\"tweet_neg_score\"].append(analyzer.polarity_scores(tweet[\"text\"])[\"neg\"])"
   ]
  },
  {
   "cell_type": "code",
   "execution_count": 34,
   "metadata": {},
   "outputs": [
    {
     "data": {
      "text/html": [
       "<div>\n",
       "<style>\n",
       "    .dataframe thead tr:only-child th {\n",
       "        text-align: right;\n",
       "    }\n",
       "\n",
       "    .dataframe thead th {\n",
       "        text-align: left;\n",
       "    }\n",
       "\n",
       "    .dataframe tbody tr th {\n",
       "        vertical-align: top;\n",
       "    }\n",
       "</style>\n",
       "<table border=\"1\" class=\"dataframe\">\n",
       "  <thead>\n",
       "    <tr style=\"text-align: right;\">\n",
       "      <th></th>\n",
       "      <th>tweet_source</th>\n",
       "      <th>tweet_text</th>\n",
       "      <th>tweet_date</th>\n",
       "      <th>tweet_vader_score</th>\n",
       "      <th>tweet_pos_score</th>\n",
       "      <th>tweet_neu_score</th>\n",
       "      <th>tweet_neg_score</th>\n",
       "    </tr>\n",
       "  </thead>\n",
       "  <tbody>\n",
       "    <tr>\n",
       "      <th>0</th>\n",
       "      <td>CNN</td>\n",
       "      <td>As a prosecutor seeks to revoke Bill Cosby's $...</td>\n",
       "      <td>Thu Apr 26 19:57:13 +0000 2018</td>\n",
       "      <td>0.3818</td>\n",
       "      <td>0.140</td>\n",
       "      <td>0.860</td>\n",
       "      <td>0.000</td>\n",
       "    </tr>\n",
       "    <tr>\n",
       "      <th>1</th>\n",
       "      <td>CNN</td>\n",
       "      <td>Cosby accuser Andrea Constand \"needs to be her...</td>\n",
       "      <td>Thu Apr 26 19:48:46 +0000 2018</td>\n",
       "      <td>0.0000</td>\n",
       "      <td>0.000</td>\n",
       "      <td>1.000</td>\n",
       "      <td>0.000</td>\n",
       "    </tr>\n",
       "    <tr>\n",
       "      <th>2</th>\n",
       "      <td>CNN</td>\n",
       "      <td>RT @CNNnewsroom: \"I'm stunned ... I'm elated f...</td>\n",
       "      <td>Thu Apr 26 19:45:17 +0000 2018</td>\n",
       "      <td>0.2500</td>\n",
       "      <td>0.143</td>\n",
       "      <td>0.714</td>\n",
       "      <td>0.143</td>\n",
       "    </tr>\n",
       "    <tr>\n",
       "      <th>3</th>\n",
       "      <td>CNN</td>\n",
       "      <td>Immediately after learning that Bill Cosby was...</td>\n",
       "      <td>Thu Apr 26 19:39:17 +0000 2018</td>\n",
       "      <td>-0.5859</td>\n",
       "      <td>0.124</td>\n",
       "      <td>0.600</td>\n",
       "      <td>0.276</td>\n",
       "    </tr>\n",
       "    <tr>\n",
       "      <th>4</th>\n",
       "      <td>CNN</td>\n",
       "      <td>\"Money and power, or who you are, will not sto...</td>\n",
       "      <td>Thu Apr 26 19:25:28 +0000 2018</td>\n",
       "      <td>-0.3637</td>\n",
       "      <td>0.081</td>\n",
       "      <td>0.773</td>\n",
       "      <td>0.146</td>\n",
       "    </tr>\n",
       "  </tbody>\n",
       "</table>\n",
       "</div>"
      ],
      "text/plain": [
       "  tweet_source                                         tweet_text  \\\n",
       "0          CNN  As a prosecutor seeks to revoke Bill Cosby's $...   \n",
       "1          CNN  Cosby accuser Andrea Constand \"needs to be her...   \n",
       "2          CNN  RT @CNNnewsroom: \"I'm stunned ... I'm elated f...   \n",
       "3          CNN  Immediately after learning that Bill Cosby was...   \n",
       "4          CNN  \"Money and power, or who you are, will not sto...   \n",
       "\n",
       "                       tweet_date  tweet_vader_score  tweet_pos_score  \\\n",
       "0  Thu Apr 26 19:57:13 +0000 2018             0.3818            0.140   \n",
       "1  Thu Apr 26 19:48:46 +0000 2018             0.0000            0.000   \n",
       "2  Thu Apr 26 19:45:17 +0000 2018             0.2500            0.143   \n",
       "3  Thu Apr 26 19:39:17 +0000 2018            -0.5859            0.124   \n",
       "4  Thu Apr 26 19:25:28 +0000 2018            -0.3637            0.081   \n",
       "\n",
       "   tweet_neu_score  tweet_neg_score  \n",
       "0            0.860            0.000  \n",
       "1            1.000            0.000  \n",
       "2            0.714            0.143  \n",
       "3            0.600            0.276  \n",
       "4            0.773            0.146  "
      ]
     },
     "execution_count": 34,
     "metadata": {},
     "output_type": "execute_result"
    }
   ],
   "source": [
    "# Store the final contents into a DataFrame\n",
    "news_df = pd.DataFrame(tweet_data, columns=[\"tweet_source\", \n",
    "                                             \"tweet_text\", \n",
    "                                             \"tweet_date\",\n",
    "                                             \"tweet_vader_score\",\n",
    "                                             \"tweet_pos_score\",\n",
    "                                             \"tweet_neu_score\",\n",
    "                                             \"tweet_neg_score\"])\n",
    "\n",
    "# Export to CSV\n",
    "file_name = str(time.strftime(\"%m-%d-%y\")) + \"-tweets.csv\"\n",
    "news_df.to_csv(\"news_sentiment\", encoding=\"utf-8\")\n",
    "\n",
    "# Visualize the DataFrame\n",
    "news_df.head()"
   ]
  },
  {
   "cell_type": "code",
   "execution_count": 35,
   "metadata": {},
   "outputs": [
    {
     "data": {
      "text/plain": [
       "tweet_source         400\n",
       "tweet_text           400\n",
       "tweet_date           400\n",
       "tweet_vader_score    400\n",
       "tweet_pos_score      400\n",
       "tweet_neu_score      400\n",
       "tweet_neg_score      400\n",
       "dtype: int64"
      ]
     },
     "execution_count": 35,
     "metadata": {},
     "output_type": "execute_result"
    }
   ],
   "source": [
    "news_df.count()"
   ]
  },
  {
   "cell_type": "markdown",
   "metadata": {},
   "source": [
    "## Sentimenet Scatter Plot"
   ]
  },
  {
   "cell_type": "code",
   "execution_count": 36,
   "metadata": {},
   "outputs": [
    {
     "data": {
      "image/png": "[encoded data removed]",
      "text/plain": [
       "<matplotlib.figure.Figure at 0x23ce24095c0>"
      ]
     },
     "metadata": {},
     "output_type": "display_data"
    }
   ],
   "source": [
    "plt.scatter(np.arange(-len(news_df[news_df[\"tweet_source\"] == \"BBC News (World)\"]), 0, 1), \n",
    "            news_df[news_df[\"tweet_source\"] == \"BBC News (World)\"][\"tweet_vader_score\"],\n",
    "            edgecolor=\"black\", linewidths=1, marker=\"o\", color=\"skyblue\", s=75,\n",
    "            alpha=0.8, label=\"BBC\")\n",
    "\n",
    "plt.scatter(np.arange(-len(news_df[news_df[\"tweet_source\"] == \"CBS News\"]), 0, 1), \n",
    "            news_df[news_df[\"tweet_source\"] == \"CBS News\"][\"tweet_vader_score\"],\n",
    "            edgecolor=\"black\", linewidths=1, marker=\"o\", color=\"green\", s=75,\n",
    "            alpha=0.8, label=\"CBS\")\n",
    "\n",
    "plt.scatter(np.arange(-len(news_df[news_df[\"tweet_source\"] == \"CNN\"]), 0, 1), \n",
    "            news_df[news_df[\"tweet_source\"] == \"CNN\"][\"tweet_vader_score\"],\n",
    "            edgecolor=\"black\", linewidths=1, marker=\"o\", color=\"red\", s=75,\n",
    "            alpha=0.8, label=\"CNN\")\n",
    "\n",
    "plt.scatter(np.arange(-len(news_df[news_df[\"tweet_source\"] == \"Fox News\"]), 0, 1), \n",
    "            news_df[news_df[\"tweet_source\"] == \"Fox News\"][\"tweet_vader_score\"],\n",
    "            edgecolor=\"black\", linewidths=1, marker=\"o\", color=\"b\", s=75,\n",
    "            alpha=0.8, label=\"Fox\")\n",
    "\n",
    "plt.scatter(np.arange(-len(news_df[news_df[\"tweet_source\"] == \"The New York Times\"]), 0, 1), \n",
    "            news_df[news_df[\"tweet_source\"] == \"The New York Times\"][\"tweet_vader_score\"],\n",
    "            edgecolor=\"black\", linewidths=1, marker=\"o\", color=\"gold\", s=75,\n",
    "            alpha=0.8, label=\"New York Times\")\n",
    "\n",
    "# Incorporate the other graph properties\n",
    "plt.title(\"Sentiment Analysis of Media Tweets (%s)\" % time.strftime(\"%x\"))\n",
    "plt.ylabel(\"Tweet Polarity\")\n",
    "plt.xlabel(\"Tweets Ago\")\n",
    "plt.xlim([-105, 5])\n",
    "plt.xticks([-100, -80, -60, -40, -20, 0], [100, 80, 60, 40, 20, 0])\n",
    "plt.ylim([-1.05, 1.05])\n",
    "plt.grid(True)\n",
    "\n",
    "# Create a legend\n",
    "lgnd = plt.legend(fontsize=\"small\", mode=\"Expanded\", \n",
    "                  numpoints=1, scatterpoints=1, \n",
    "                  loc=\"upper left\", bbox_to_anchor=(1,1), title=\"Media Sources\", \n",
    "                  labelspacing=0.5)\n",
    "\n",
    "# Save the figure (and account for the legend being outside the plot when saving)\n",
    "file_name = str(time.strftime(\"%m-%d-%y\")) + \"-Fig1.png\"\n",
    "plt.savefig(\"News Sentiment Analysis\", bbox_extra_artists=(lgnd, ), bbox_inches='tight')\n",
    "\n",
    "# Show plot\n",
    "plt.show()"
   ]
  },
  {
   "cell_type": "code",
   "execution_count": null,
   "metadata": {
    "collapsed": true
   },
   "outputs": [],
   "source": []
  },
  {
   "cell_type": "code",
   "execution_count": null,
   "metadata": {
    "collapsed": true
   },
   "outputs": [],
   "source": []
  }
 ],
 "metadata": {
  "kernelspec": {
   "display_name": "Python 3",
   "language": "python",
   "name": "python3"
  },
  "language_info": {
   "codemirror_mode": {
    "name": "ipython",
    "version": 3
   },
   "file_extension": ".py",
   "mimetype": "text/x-python",
   "name": "python",
   "nbconvert_exporter": "python",
   "pygments_lexer": "ipython3",
   "version": "3.6.3"
  }
 },
 "nbformat": 4,
 "nbformat_minor": 2
}
